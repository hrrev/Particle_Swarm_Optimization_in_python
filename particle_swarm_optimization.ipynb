{
 "cells": [
  {
   "cell_type": "code",
   "execution_count": 1,
   "metadata": {},
   "outputs": [],
   "source": [
    "#importing libraries\n",
    "import random\n",
    "import numpy as np\n",
    "import pandas\n",
    "import matplotlib.pyplot as plt"
   ]
  },
  {
   "cell_type": "code",
   "execution_count": 2,
   "metadata": {},
   "outputs": [],
   "source": [
    "#swarm initializer\n",
    "# This function initializes the swarm given the number of particles\n",
    "def init_swarm(n):\n",
    "\"\"\"This function intializes a swarm given the value of number of particles n\"\"\"\n",
    "    #having swarm as a dictionary\n",
    "    swarm = {}\n",
    "    #creating a list to hold all particles\n",
    "    swarm['particles'] = []\n",
    "    \n",
    "    for i in range(n):\n",
    "        #x1,x2 and v1,v2 are positions and velocities for variable 1 and 2\n",
    "        particle = {}\n",
    "        particle['x1'] = random.random()*255\n",
    "        particle['x2'] = random.random()*255\n",
    "        \n",
    "        particle['v1'] = -255 +(random.random()*255*2)\n",
    "        particle['v2'] = -255 +(random.random()*255*2)\n",
    "        \n",
    "        # initializing local best value to worse than worst possible solution\n",
    "        particle['l_best_val'] = 2000\n",
    "        particle['l_best_x1'] = particle['x1']\n",
    "        particle['l_best_x2'] = particle['x2']\n",
    "        \n",
    "        #appending the particle to list of particles\n",
    "        swarm['particles'].append(particle)\n",
    "    \n",
    "    # initializing global best value to worse than worst possible solution\n",
    "    swarm['g_best_val'] = 2000\n",
    "    \n",
    "    # this really does not matter as would be evaluated once bef\n",
    "    swarm['g_best_x1']  = particle['x1']\n",
    "    swarm['g_best_x2']  = particle['x2']\n",
    "\n",
    "    return swarm"
   ]
  },
  {
   "cell_type": "code",
   "execution_count": 19,
   "metadata": {},
   "outputs": [],
   "source": [
    "def evaluate_fitness(swarm):\n",
    "    \"\"\"This function evaluates the fitness of a swarm\n",
    "    and updates the local best solution for each particle\n",
    "    along with updating the global best solution\"\"\"\n",
    "\n",
    "    for particle in swarm['particles']:\n",
    "        current_fitness = obj_func(particle)\n",
    "        \n",
    "        #since our objective is minimisation\n",
    "        if current_fitness < particle['l_best_val']:\n",
    "            particle['l_best_val'] = current_fitness\n",
    "            particle['l_best_x1'] = particle['x1']\n",
    "            particle['l_best_x2'] = particle['x2']\n",
    "        \n",
    "        if current_fitness < swarm['g_best_val']:\n",
    "            swarm['g_best_val'] = current_fitness\n",
    "            swarm['g_best_x1'] = particle['l_best_x1']\n",
    "            swarm['g_best_x2'] = particle['l_best_x2']        \n",
    "\n",
    "    return"
   ]
  },
  {
   "cell_type": "code",
   "execution_count": 20,
   "metadata": {},
   "outputs": [],
   "source": [
    "def obj_func(particle):\n",
    "    \"\"\"This fucntion calculates the objective function\n",
    "    value for a given particle\"\"\"\n",
    "\n",
    "    v1 = np.sum([(i*np.cos( (i+1)*particle['x1'] + i))  for i in range(1,6)] )\n",
    "    v2 = np.sum([(i*np.cos( (i+1)*particle['x2'] + i))  for i in range(1,6)] )\n",
    "\n",
    "    val=v1* v2\n",
    "    return val"
   ]
  },
  {
   "cell_type": "code",
   "execution_count": 11,
   "metadata": {},
   "outputs": [],
   "source": [
    "def update_swarm(swarm):\n",
    "    \"\"\"This is the main function which runs iterations\n",
    "    c1,c2 and w are parameters to be tuned\"\"\"\n",
    "    c1 = 0.3\n",
    "    c2 = 0.8\n",
    "    W = 0.7\n",
    "    \n",
    "    #Choose the number of parameters\n",
    "    num_iterations = 1000\n",
    "    \n",
    "    #creating a dictionary which stores the best value seen uptil that instance\n",
    "    objective={}\n",
    "\n",
    "    for i in range(num_iterations):\n",
    "        # evaluate fitness modifies lbest and gbest as well\n",
    "        evaluate_fitness(swarm)\n",
    "\n",
    "        # update velocitites\n",
    "        for particle in swarm['particles']:\n",
    "            particle['v1'] = (W*particle['v1'] + c2*random.random() * (particle['l_best_x1'] - particle['x1']) + c1*(swarm['g_best_x1'] - particle['x1']))\n",
    "            particle['v2'] = (W*particle['v2'] + c2*random.random() * (particle['l_best_x2'] - particle['x2']) + c1*(swarm['g_best_x2'] - particle['x2']))\n",
    "            \n",
    "            \n",
    "            # updating postions after ensuring they are within limits            \n",
    "            x1_new = particle['x1'] + particle['v1']\n",
    "            x2_new = particle['x2'] + particle['v2']\n",
    "        \n",
    "            if(x1_new > 255):\n",
    "                x1_new = 255\n",
    "            elif(x1_new < 0):\n",
    "                x1_new = 0\n",
    "            \n",
    "            if(x2_new > 255):\n",
    "                x2_new = 255\n",
    "            elif(x2_new < 0):\n",
    "                x2_new = 0\n",
    "\n",
    "            particle['x1'] = x1_new\n",
    "            particle['x2'] = x2_new\n",
    "\n",
    "        # storing best value seen till now\n",
    "        objective[i] = swarm['g_best_val']\n",
    "\n",
    "    #printing the results\n",
    "    print(\"The best solution obtained is {}\".format(swarm['g_best_val']))\n",
    "    print(\"The global best is obtained at x1={}, x2={}\".format(swarm['g_best_x1'], swarm['g_best_x2']))\n",
    "    \n",
    "    #returning the dictionary for plotting\n",
    "    return objective"
   ]
  },
  {
   "cell_type": "code",
   "execution_count": 24,
   "metadata": {},
   "outputs": [
    {
     "name": "stdout",
     "output_type": "stream",
     "text": [
      "The best solution obtained is -186.6231552519017\n",
      "The global best is obtained at x1=74.60488933004167, x2=92.82261903751058\n"
     ]
    }
   ],
   "source": [
    "#running the particle swarm optimization algorithm\n",
    "swarm=init_swarm(10)\n",
    "objective_values = update_swarm(swarm)"
   ]
  },
  {
   "cell_type": "code",
   "execution_count": 25,
   "metadata": {},
   "outputs": [
    {
     "data": {
      "text/plain": [
       "Text(0, 0.5, 'Objective function value')"
      ]
     },
     "execution_count": 25,
     "metadata": {},
     "output_type": "execute_result"
    },
    {
     "data": {
      "image/png": "[encoded data removed]",
      "text/plain": [
       "<Figure size 720x720 with 1 Axes>"
      ]
     },
     "metadata": {
      "needs_background": "light"
     },
     "output_type": "display_data"
    }
   ],
   "source": [
    "#plootting a graph to see convergence\n",
    "plt.figure(figsize=(10,10))\n",
    "plt.plot(range(len(objective_values)), list(objective_values.values()))\n",
    "plt.xlabel('Number of iterations')\n",
    "plt.ylabel('Objective function value')"
   ]
  },
  {
   "cell_type": "code",
   "execution_count": null,
   "metadata": {},
   "outputs": [],
   "source": []
  }
 ],
 "metadata": {
  "kernelspec": {
   "display_name": "Python 3",
   "language": "python",
   "name": "python3"
  },
  "language_info": {
   "codemirror_mode": {
    "name": "ipython",
    "version": 3
   },
   "file_extension": ".py",
   "mimetype": "text/x-python",
   "name": "python",
   "nbconvert_exporter": "python",
   "pygments_lexer": "ipython3",
   "version": "3.7.1"
  }
 },
 "nbformat": 4,
 "nbformat_minor": 2
}
